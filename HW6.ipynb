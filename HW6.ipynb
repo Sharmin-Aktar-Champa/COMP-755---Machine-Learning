{
  "nbformat": 4,
  "nbformat_minor": 0,
  "metadata": {
    "accelerator": "GPU",
    "colab": {
      "name": "Copy of Copy of HW6",
      "provenance": [],
      "collapsed_sections": []
    },
    "kernelspec": {
      "display_name": "Python 3",
      "name": "python3"
    }
  },
  "cells": [
    {
      "cell_type": "markdown",
      "metadata": {
        "id": "tMce8muBqXQP"
      },
      "source": [
        "# GMMs A La VAE\n",
        "\n",
        "In class we discussed how GMMs have largely the same type of generative procedure as VAEs: generate a latent \"code\" Z (cluster id for GMMs), and generate the input features given the code (using a lookup operation for the mean and covariance of X|Z). Here we shall optimize the parameters of GMMs not using likelihoods directly, nor using EM. Instead, here we shall optimize the parameters of a GMM using a variational lower bound (ELBO with an approximate posterior).\n",
        "\n",
        "**Turn in by December 1st 11:59PM via https://docs.google.com/forms/d/e/1FAIpQLSdsNo42vSPpLr1n7aglO6qUHXwNeaZDWLycKssOUuqmRj-7_g/viewform?usp=pp_url.**\n"
      ]
    },
    {
      "cell_type": "markdown",
      "metadata": {
        "id": "oM_8ELnJq_wd"
      },
      "source": [
        "## Data and Setup\n",
        "\n",
        "First, it may help to enable GPUs for the notebook:\n",
        "\n",
        "- Navigate to Edit→Notebook Settings\n",
        "- select GPU from the Hardware Accelerator drop-down\n",
        "\n",
        "Next, confirm that we can connect to the GPU with tensorflow.\n",
        "\n",
        "*(Note, it is fine if you can not connect to GPU, it just might take a little longer to run.)*"
      ]
    },
    {
      "cell_type": "code",
      "metadata": {
        "id": "sXnDmXR7RDr2",
        "colab": {
          "base_uri": "https://localhost:8080/",
          "height": 218
        },
        "outputId": "a3202081-7b16-474c-ec6a-f7e3151ea588"
      },
      "source": [
        "%tensorflow_version 2.x\n",
        "import tensorflow as tf\n",
        "device_name = tf.test.gpu_device_name()\n",
        "if device_name != '/device:GPU:0':\n",
        "  raise SystemError('GPU device not found')\n",
        "print('Found GPU at: {}'.format(device_name))"
      ],
      "execution_count": null,
      "outputs": [
        {
          "output_type": "error",
          "ename": "SystemError",
          "evalue": "ignored",
          "traceback": [
            "\u001b[0;31m---------------------------------------------------------------------------\u001b[0m",
            "\u001b[0;31mSystemError\u001b[0m                               Traceback (most recent call last)",
            "\u001b[0;32m<ipython-input-1-d1d5f2f639c4>\u001b[0m in \u001b[0;36m<module>\u001b[0;34m()\u001b[0m\n\u001b[1;32m      3\u001b[0m \u001b[0mdevice_name\u001b[0m \u001b[0;34m=\u001b[0m \u001b[0mtf\u001b[0m\u001b[0;34m.\u001b[0m\u001b[0mtest\u001b[0m\u001b[0;34m.\u001b[0m\u001b[0mgpu_device_name\u001b[0m\u001b[0;34m(\u001b[0m\u001b[0;34m)\u001b[0m\u001b[0;34m\u001b[0m\u001b[0;34m\u001b[0m\u001b[0m\n\u001b[1;32m      4\u001b[0m \u001b[0;32mif\u001b[0m \u001b[0mdevice_name\u001b[0m \u001b[0;34m!=\u001b[0m \u001b[0;34m'/device:GPU:0'\u001b[0m\u001b[0;34m:\u001b[0m\u001b[0;34m\u001b[0m\u001b[0;34m\u001b[0m\u001b[0m\n\u001b[0;32m----> 5\u001b[0;31m   \u001b[0;32mraise\u001b[0m \u001b[0mSystemError\u001b[0m\u001b[0;34m(\u001b[0m\u001b[0;34m'GPU device not found'\u001b[0m\u001b[0;34m)\u001b[0m\u001b[0;34m\u001b[0m\u001b[0;34m\u001b[0m\u001b[0m\n\u001b[0m\u001b[1;32m      6\u001b[0m \u001b[0mprint\u001b[0m\u001b[0;34m(\u001b[0m\u001b[0;34m'Found GPU at: {}'\u001b[0m\u001b[0;34m.\u001b[0m\u001b[0mformat\u001b[0m\u001b[0;34m(\u001b[0m\u001b[0mdevice_name\u001b[0m\u001b[0;34m)\u001b[0m\u001b[0;34m)\u001b[0m\u001b[0;34m\u001b[0m\u001b[0;34m\u001b[0m\u001b[0m\n",
            "\u001b[0;31mSystemError\u001b[0m: GPU device not found"
          ]
        }
      ]
    },
    {
      "cell_type": "markdown",
      "metadata": {
        "id": "fVf6_-ZENH02"
      },
      "source": [
        "Let's import additional packages of use."
      ]
    },
    {
      "cell_type": "code",
      "metadata": {
        "id": "k1jRaUQWZIvL"
      },
      "source": [
        "%matplotlib inline\n",
        "import numpy as np\n",
        "import matplotlib.pyplot as plt\n",
        "plt.style.use('seaborn-white')"
      ],
      "execution_count": null,
      "outputs": []
    },
    {
      "cell_type": "markdown",
      "metadata": {
        "id": "T5HQydpArjSj"
      },
      "source": [
        "Next, we prescribe the ground truth parameters to generate data.\n",
        "Recall that the parameters are $\\pi_j$, the mixing prior coefficients for components, $\\mu_j$, the means for components, and $\\sigma_j$ the standard deviation for components. $\\pi$ will be represented with logits in `gt_logits`; i.e. the softmax of `gt_logits` is $\\pi$. $\\mu$ is represented by `gt_means`. $\\sigma$ is represented in log space by `gt_lsigmas`; i.e. the exp of `gt_lsigmas` is $\\sigma$.\n",
        "\n",
        "\n"
      ]
    },
    {
      "cell_type": "code",
      "metadata": {
        "id": "unlUWaX1zBAj"
      },
      "source": [
        "gt_logits = tf.math.log([1/4, 1/4, 1/6, 1/6, 1/6])\n",
        "gt_means = tf.convert_to_tensor([1.0, -0.5, -2, .5, 3])\n",
        "gt_lsigmas = tf.math.log([.5, 1.0, .2, 0.1, .5])"
      ],
      "execution_count": null,
      "outputs": []
    },
    {
      "cell_type": "markdown",
      "metadata": {
        "id": "WkEPeSpHr7q6"
      },
      "source": [
        "**Sample data based on the parameters**"
      ]
    },
    {
      "cell_type": "code",
      "metadata": {
        "id": "0_SgMO9zWGKS"
      },
      "source": [
        "def make_data(N, logits, means, lsigmas):\n",
        "  z = tf.transpose(tf.random.categorical([logits], N))\n",
        "  y = tf.random.normal((N, 1))\n",
        "\n",
        "  x = tf.gather(means, z)+tf.gather(tf.math.exp(lsigmas), z)*y\n",
        "  return x"
      ],
      "execution_count": null,
      "outputs": []
    },
    {
      "cell_type": "markdown",
      "metadata": {
        "id": "o5XfJFZAuPT0"
      },
      "source": [
        "Now plot the data. (Hint: it should look something like this image.)"
      ]
    },
    {
      "cell_type": "code",
      "metadata": {
        "colab": {
          "base_uri": "https://localhost:8080/",
          "height": 262
        },
        "id": "4vLU-NL72jci",
        "outputId": "cb6517c2-496b-420b-bc76-12f8de111fed"
      },
      "source": [
        "NUM_EXAMPLES = 5000\n",
        "training_inputs = make_data(NUM_EXAMPLES, gt_logits, gt_means, gt_lsigmas)\n",
        "plt.hist(np.reshape(training_inputs, [-1]), bins=50, alpha=0.5,\n",
        "         histtype='stepfilled', color='steelblue', edgecolor='none');"
      ],
      "execution_count": null,
      "outputs": [
        {
          "output_type": "display_data",
          "data": {
            "image/png": "[encoded data removed]",
            "text/plain": [
              "<Figure size 432x288 with 1 Axes>"
            ]
          },
          "metadata": {}
        }
      ]
    },
    {
      "cell_type": "markdown",
      "metadata": {
        "id": "GFMrCxq10JpF"
      },
      "source": [
        "**Likelihood Helper Functions**\n"
      ]
    },
    {
      "cell_type": "code",
      "metadata": {
        "id": "GSe6njCZe0z0"
      },
      "source": [
        "def mixture_likelihood(x, logits, means, lsigmas):\n",
        "    \"\"\"Given log-unnormalized mixture weights, shift, and log scale parameters\n",
        "    for mixture components, return the likelihoods for targets.\n",
        "    Args:\n",
        "        x: N x 1 tensor of 1d targets to get likelihoods for.\n",
        "        logits: ncomp tensor of mixing priors of mixture model.\n",
        "        means: ncomp tensor of means of mixture model.\n",
        "        lsigmas: ncomp tensor of log std. dev. of mixture model.\n",
        "    Return:\n",
        "        likelihoods: N x 1  tensor of likelihoods log p(x).\n",
        "    \"\"\"\n",
        "    # Compute likelihoods per x\n",
        "    # Write log likelihood with logsumexp.\n",
        "    sigmas = tf.expand_dims(tf.exp(lsigmas), 0)\n",
        "    logits = tf.expand_dims(logits, 0)\n",
        "    means = tf.expand_dims(means, 0)\n",
        "    log_norm_consts = -lsigmas - 0.5*np.log(2.0*np.pi)\n",
        "    log_kernel = -0.5*tf.square((x-means)/sigmas)\n",
        "    log_exp_terms = log_kernel + log_norm_consts + logits\n",
        "    log_likelihoods = tf.reduce_logsumexp(log_exp_terms, -1) - \\\n",
        "        tf.reduce_logsumexp(logits, -1)\n",
        "    return log_likelihoods"
      ],
      "execution_count": null,
      "outputs": []
    },
    {
      "cell_type": "code",
      "metadata": {
        "id": "ulXu8DWgdm1L"
      },
      "source": [
        "def plot_density(logits, means, lsigmas):\n",
        "  gridx = np.reshape(np.linspace(-5.0, 5.0, 1000), [-1, 1])\n",
        "  log_px = mixture_likelihood(gridx, logits, means, lsigmas)\n",
        "  plt.plot(gridx, np.exp(log_px))\n",
        "  plt.scatter(tf.reshape(means, [-1, 1]), np.exp(mixture_likelihood(tf.reshape(means, [-1, 1]), logits, means, lsigmas)))"
      ],
      "execution_count": null,
      "outputs": []
    },
    {
      "cell_type": "markdown",
      "metadata": {
        "id": "BS4HVvEEgD1m"
      },
      "source": [
        "## Variational GMMs (70 Points)\n",
        "\n",
        "Now we will train a GMM using a variational bound. Similarly to VAEs, the approximate posterior (denoted as $q$ in class) will be parameterized as a neural network that yeilds $q(z_i \\mid x_i)$. Unlike VAEs, we will not sample from $q(z_i \\mid x_i)$ to approximate the ELBO; instead, we shall directly compute an expectation w.r.t. $q(z_i \\mid x_i)$.\n"
      ]
    },
    {
      "cell_type": "markdown",
      "metadata": {
        "id": "zeyXEFsxVBdc"
      },
      "source": [
        "**KL Divergence (20 points)**\n",
        "\n",
        "KL plays an important role in variational inference. Implement the function below to compute the KL divergence of multiple pairs of distributions. *Do not use an existing implementation of KL.*"
      ]
    },
    {
      "cell_type": "code",
      "metadata": {
        "id": "3l_99TC3qkzw"
      },
      "source": [
        "def kl_divergence(p_logits, q_logits):\n",
        "  \"\"\" Compute the KL divergence between discrete distributions p and q.\n",
        "  Args:\n",
        "        p_logits: N x m tensor of logits for N distributions over m elements.\n",
        "        q_logits: N x m  tensor of logits for N distributions over m elements.\n",
        "    Return:\n",
        "        kl: N tensor of KL(p_i || q_i)\n",
        "  \"\"\"\n",
        "  \"\"\" Hint: it is numerically stable to use\n",
        "    tf.nn.softmax_cross_entropy_with_logits. Be careful about what is in logit\n",
        "    versus probability space.\n",
        "  \"\"\"\n",
        "  Hq_P = tf.nn.softmax_cross_entropy_with_logits(labels = tf.exp(p_logits), logits = q_logits, axis = -1)\n",
        "  H_P  = tf.nn.softmax_cross_entropy_with_logits(labels = tf.exp(p_logits), logits = p_logits, axis = -1)\n",
        "  Dq_P = Hq_P - H_P\n",
        "  return Dq_P  # TODO"
      ],
      "execution_count": null,
      "outputs": []
    },
    {
      "cell_type": "markdown",
      "metadata": {
        "id": "x2dRkuKTWznc"
      },
      "source": [
        "**ELBO (20 points)**\n",
        "\n",
        "Next we shall implement the ELBO for a model and given approximate posterior likelihoods."
      ]
    },
    {
      "cell_type": "code",
      "metadata": {
        "id": "iE0GgG5t1ZKH"
      },
      "source": [
        "def mixture_posterior_logits(x, logits, means, lsigmas):\n",
        "  \"\"\"Given log-unnormalized mixture weights, shift, and log scale parameters\n",
        "  for mixture components, return the posterior of latent z_i's.\n",
        "  Args:\n",
        "      x: N x 1 tensor of 1d targets to get posteriors for.\n",
        "      logits: ncomp tensor of mixing priors of mixture model\n",
        "      means: ncomp tensor of means of mixture model.\n",
        "      lsigmas: ncomp tensor of log std. dev. of mixture model.\n",
        "  Return:\n",
        "      posterior_logits: N x ncomp  tensor logits for posterior of z_i's.\n",
        "  \"\"\"\n",
        "  sigmas = tf.expand_dims(tf.exp(lsigmas), 0)\n",
        "  logits = tf.expand_dims(logits, 0)\n",
        "  means = tf.expand_dims(means, 0)\n",
        "  log_norm_consts = -lsigmas - 0.5*np.log(2.0*np.pi)\n",
        "  log_kernel = -0.5*tf.square((x-means)/sigmas)\n",
        "  log_exp_terms = log_kernel + log_norm_consts + logits\n",
        "  return log_exp_terms"
      ],
      "execution_count": null,
      "outputs": []
    },
    {
      "cell_type": "code",
      "metadata": {
        "id": "pEgvQ_FJKvOJ"
      },
      "source": [
        "####\n",
        "def mixture_likelihood_v2(x, logits, means, lsigmas):\n",
        "    \"\"\"Given log-unnormalized mixture weights, shift, and log scale parameters\n",
        "    for mixture components, return the likelihoods for targets.\n",
        "    Args:\n",
        "        x: N x 1 tensor of 1d targets to get likelihoods for.\n",
        "        logits: ncomp tensor of mixing priors of mixture model.\n",
        "        means: ncomp tensor of means of mixture model.\n",
        "        lsigmas: ncomp tensor of log std. dev. of mixture model.\n",
        "    Return:\n",
        "        likelihoods: N x 1  tensor of likelihoods log p(x).\n",
        "    \"\"\"\n",
        "    # Compute likelihoods per x\n",
        "    # Write log likelihood with logsumexp.\n",
        "    sigmas = tf.expand_dims(tf.exp(lsigmas), 0)\n",
        "\n",
        "    #logits = tf.expand_dims(logits, 0)\n",
        "\n",
        "    means = tf.expand_dims(means, 0)\n",
        "    log_norm_consts = -lsigmas - 0.5*np.log(2.0*np.pi)\n",
        "    log_kernel = -0.5*tf.square((x-means)/sigmas)\n",
        "    log_exp_terms = log_kernel + log_norm_consts + logits\n",
        "    log_likelihoods = tf.reduce_logsumexp(log_exp_terms, -1) - \\\n",
        "        tf.reduce_logsumexp(logits, -1)\n",
        "    return log_likelihoods"
      ],
      "execution_count": null,
      "outputs": []
    },
    {
      "cell_type": "code",
      "metadata": {
        "id": "Cu4zc-81NZ5B"
      },
      "source": [
        "def elbo(inputs, q_logits, logits, means, lsigmas):\n",
        "  \"\"\" Compute the ELBO for a given GMM model and approximate posterior.\n",
        "  Args:\n",
        "        inputs: N x 1 points to compute ELBO at.\n",
        "        q_logits: N x ncomp tensor of logits for approximate posterior of z_i.\n",
        "        logits: ncomp tensor of mixing priors of mixture model\n",
        "        means: ncomp tensor of means of mixture model.\n",
        "        lsigmas: ncomp tensor of log std. dev. of mixture model.\n",
        "    Return:\n",
        "        kl: N tensor of KL(p_i || q_i)\n",
        "  \"\"\"\n",
        "  \"\"\"\n",
        "  Hint: Do not try to use a reparameterization-type trick. Instead, directly \n",
        "  compute any expectations.\n",
        "  \"\"\"\n",
        "  true_posterior_p_logits = mixture_posterior_logits(inputs, logits, means, lsigmas)\n",
        "\n",
        "  KL = kl_divergence(true_posterior_p_logits, q_logits)\n",
        "\n",
        "  #print(KL.shape)\n",
        "\n",
        "  q_in_prob_space = tf.nn.softmax(q_logits)\n",
        "  mean_x_z = tf.reduce_mean(q_in_prob_space)\n",
        "\n",
        "  #mean_x_z = tf.squeeze(mean_x_z, axis=0)\n",
        "\n",
        "  variance_x_z = tf.reduce_sum(tf.square(q_in_prob_space -  mean_x_z), axis = 0)/q_logits.shape[0] \n",
        "  sigmas_x_z = tf.sqrt(variance_x_z)\n",
        "  log_sigmas_x_z = tf.math.log(sigmas_x_z)\n",
        "\n",
        "  #log_sigmas_x_z = tf.squeeze(log_sigmas_x_z, axis=0)\n",
        "\n",
        "  #expectation = tf.reduce_mean(mixture_likelihood(inputs, logits, mean_x_z, log_sigmas_x_z))\n",
        "  #expectation = tf.reduce_mean(mixture_likelihood_v2(inputs, q_logits, mean_x_z, log_sigmas_x_z))\n",
        "  expectation =   mixture_likelihood_v2(inputs, q_logits, means, lsigmas) \n",
        "\n",
        "  evidence_lower_bound = expectation - KL\n",
        "  return evidence_lower_bound   # TODO"
      ],
      "execution_count": null,
      "outputs": []
    },
    {
      "cell_type": "code",
      "metadata": {
        "id": "rdKDxbSSlboW"
      },
      "source": [
        "#remove later\n",
        "#temp_logits = tf.random.normal(shape=[training_inputs.shape[0], gt_logits.shape[0]])\n",
        "\n",
        "#temp = elbo(training_inputs, temp_logits, gt_logits, gt_means, gt_lsigmas)\n"
      ],
      "execution_count": null,
      "outputs": []
    },
    {
      "cell_type": "markdown",
      "metadata": {
        "id": "dnWsSLUbiey7"
      },
      "source": [
        "**Implement Model (10 points)**\n",
        "\n",
        "Use the above two functions to implement the variational GMM."
      ]
    },
    {
      "cell_type": "code",
      "metadata": {
        "id": "uoclQYDRKwUm"
      },
      "source": [
        "class VGMM(tf.keras.Model):\n",
        "  def __init__(self, k, nhidden_layers=2, hidden_size=256):\n",
        "    super(VGMM, self).__init__()\n",
        "    \"\"\"\n",
        "    Hint: it helps to initialize variables close to zero with a small range \n",
        "    (about 0.1 standard deviation).\n",
        "\n",
        "    self.logits = tf.Variable( TODO , name='logits')\n",
        "    self.means = tf.Variable( TODO, name='means')\n",
        "    self.lsigmas = tf.Variable( TODO, name='lsigmas')\n",
        "    \"\"\"\n",
        "    self.logits = None  # TODO\n",
        "    self.means = None  # TODO\n",
        "    self.lsigmas = None  # TODO\n",
        "\n",
        "    self.logits = tf.Variable(tf.random.normal([k], stddev=0.1), name='logits', trainable = True)  # TODO\n",
        "    self.means = tf.Variable(tf.random.normal([k], stddev=0.1), name='means', trainable = True)  # TODO\n",
        "    self.lsigmas = tf.Variable(tf.random.normal([k], stddev=0.1), name='lsigmas', trainable = True)  # TODO\n",
        "    \n",
        "    \"\"\"\n",
        "    Setup a neural network with nhidden_layers with hidden_size number of units\n",
        "    to output logits of approximate posteriors below.\n",
        "    Hint: use tf.keras.layers.Dense and a ELU activation where appropriate.\n",
        "    layers = [...]\n",
        "    \"\"\"\n",
        "    \n",
        "    layers = [None]  # TODO\n",
        "    layers = [  tf.keras.Input(shape=(1, )),\n",
        "                tf.keras.layers.Dense(units=hidden_size, activation= tf.keras.activations.elu),\n",
        "                tf.keras.layers.Dense(units=hidden_size, activation= tf.keras.activations.elu),\n",
        "                tf.keras.layers.Dense(k)]\n",
        "\n",
        "    self.q_net = tf.keras.Sequential(layers)\n",
        "    \n",
        "\n",
        "  def call(self, inputs):\n",
        "    \"\"\" \n",
        "    Return the ELBO for the current model \n",
        "    Hint: make a call to self.q_net(inputs).\n",
        "    \"\"\"\n",
        "    q_logits = self.q_net(inputs)\n",
        "    evidence_lower_bound = elbo(inputs, q_logits, self.logits, self.means, self.lsigmas)\n",
        "    return evidence_lower_bound  # TODO"
      ],
      "execution_count": null,
      "outputs": []
    },
    {
      "cell_type": "markdown",
      "metadata": {
        "id": "a2nadImfaliR"
      },
      "source": [
        "**Train Model (4 points)**\n",
        "\n",
        "Now we'll train the GMM using the ELBO bound."
      ]
    },
    {
      "cell_type": "code",
      "metadata": {
        "id": "5ytK7gFpsfXc"
      },
      "source": [
        "def loss(model, inputs):\n",
        "  return -tf.reduce_mean(model(inputs))\n",
        "\n",
        "def grad(model, inputs):\n",
        "  with tf.GradientTape() as tape:\n",
        "    loss_value = loss(model, inputs)\n",
        "  return tape.gradient(loss_value, model.trainable_variables)"
      ],
      "execution_count": null,
      "outputs": []
    },
    {
      "cell_type": "code",
      "metadata": {
        "id": "Avd82zEfHfec",
        "colab": {
          "base_uri": "https://localhost:8080/",
          "height": 956
        },
        "outputId": "1ab29b65-ddd4-4c29-ac2b-15b03d0a4157"
      },
      "source": [
        "K = 5\n",
        "model = VGMM(K, nhidden_layers=2, hidden_size=128)\n",
        "optimizer = tf.keras.optimizers.Adam(learning_rate=0.005)\n",
        "\n",
        "#print(grad(model, training_inputs))\n",
        "\n",
        "steps = 4000\n",
        "for i in range(steps):\n",
        "  \"\"\" \n",
        "  Hint: \n",
        "  grads = something with training_inputs...\n",
        "  \"\"\"\n",
        "  grads = None  # TODO\n",
        "  grads = grad(model, training_inputs)  # TODO\n",
        "\n",
        "  optimizer.apply_gradients(zip(grads, model.trainable_variables))\n",
        "  if i % 100 == 0:\n",
        "    print(\"Loss at step {:03d}: {:.3f}\".format(i, loss(model, training_inputs)))\n",
        "    plot_density(model.logits, model.means, model.lsigmas)"
      ],
      "execution_count": null,
      "outputs": [
        {
          "output_type": "stream",
          "name": "stdout",
          "text": [
            "Loss at step 000: 2.289\n",
            "Loss at step 100: 3.593\n",
            "Loss at step 200: 9.504\n",
            "Loss at step 300: 6.944\n",
            "Loss at step 400: 19.993\n",
            "Loss at step 500: 16.191\n",
            "Loss at step 600: 18.192\n",
            "Loss at step 700: 9.468\n",
            "Loss at step 800: 12.657\n",
            "Loss at step 900: 9.280\n",
            "Loss at step 1000: 8.381\n",
            "Loss at step 1100: 9.141\n",
            "Loss at step 1200: 8.794\n",
            "Loss at step 1300: 6.486\n",
            "Loss at step 1400: 8.058\n",
            "Loss at step 1500: 7.257\n",
            "Loss at step 1600: 5.332\n",
            "Loss at step 1700: 6.068\n",
            "Loss at step 1800: 5.963\n",
            "Loss at step 1900: 6.489\n",
            "Loss at step 2000: 5.604\n",
            "Loss at step 2100: 5.759\n",
            "Loss at step 2200: 6.541\n",
            "Loss at step 2300: 6.885\n",
            "Loss at step 2400: 6.741\n",
            "Loss at step 2500: 6.990\n",
            "Loss at step 2600: 5.796\n",
            "Loss at step 2700: 6.884\n",
            "Loss at step 2800: 4.598\n",
            "Loss at step 2900: 4.667\n",
            "Loss at step 3000: 5.610\n",
            "Loss at step 3100: 4.819\n",
            "Loss at step 3200: 4.507\n",
            "Loss at step 3300: 5.381\n",
            "Loss at step 3400: 4.906\n",
            "Loss at step 3500: 2.324\n",
            "Loss at step 3600: 2.473\n",
            "Loss at step 3700: 5.156\n",
            "Loss at step 3800: 1.111\n",
            "Loss at step 3900: 1.710\n"
          ]
        },
        {
          "output_type": "display_data",
          "data": {
            "image/png": "[encoded data removed]",
            "text/plain": [
              "<Figure size 432x288 with 1 Axes>"
            ]
          },
          "metadata": {}
        }
      ]
    },
    {
      "cell_type": "markdown",
      "metadata": {
        "id": "IEprNAaTa64W"
      },
      "source": [
        "Compare to ground truth."
      ]
    },
    {
      "cell_type": "code",
      "metadata": {
        "id": "ucnplz-MIGAs",
        "colab": {
          "base_uri": "https://localhost:8080/",
          "height": 262
        },
        "outputId": "0e08608c-c58c-4b9f-fe11-9ee3fa91581f"
      },
      "source": [
        "plot_density(gt_logits, gt_means, gt_lsigmas)\n",
        "plot_density(model.logits, model.means, model.lsigmas)"
      ],
      "execution_count": null,
      "outputs": [
        {
          "output_type": "display_data",
          "data": {
            "image/png": "[encoded data removed]",
            "text/plain": [
              "<Figure size 432x288 with 1 Axes>"
            ]
          },
          "metadata": {}
        }
      ]
    },
    {
      "cell_type": "markdown",
      "metadata": {
        "id": "CuRdz9fXbEvY"
      },
      "source": [
        "**Likelihood versus ELBO (6 Points)**\n",
        "\n",
        "Recall that we can compute the exact likelihood for a GMM. Report the average difference between the true log likelihood and the ELBO on the training data."
      ]
    },
    {
      "cell_type": "code",
      "metadata": {
        "id": "pE9jzY6dBLFu",
        "colab": {
          "base_uri": "https://localhost:8080/"
        },
        "outputId": "0d2aa8b0-4050-4162-a883-5ffbafd184e3"
      },
      "source": [
        "# TODO\n",
        "LL_t = mixture_likelihood(training_inputs, gt_logits, gt_means, gt_lsigmas)\n",
        "\n",
        "qt_logits = tf.random.normal(shape=[training_inputs.shape[0], gt_logits.shape[0]])\n",
        "ELBO_t = elbo(training_inputs, qt_logits, gt_logits, gt_means, gt_lsigmas)\n",
        "print(tf.reduce_mean(LL_t - ELBO_t))\n",
        "\n",
        "print(kl_divergence(LL_t, ELBO_t))\n",
        "print(kl_divergence(ELBO_t, LL_t))"
      ],
      "execution_count": null,
      "outputs": [
        {
          "output_type": "stream",
          "name": "stdout",
          "text": [
            "tf.Tensor(0.6233239, shape=(), dtype=float32)\n",
            "tf.Tensor(628.55664, shape=(), dtype=float32)\n",
            "tf.Tensor(369.583, shape=(), dtype=float32)\n"
          ]
        }
      ]
    },
    {
      "cell_type": "markdown",
      "metadata": {
        "id": "YLqZCRV5b8vk"
      },
      "source": [
        "**Matching Likelihood to ELBO (10 points)**\n",
        "\n",
        "What is the missing piece to match the ELBO to log likelihood? Show the average difference between the true log likelihood and an adjusted ELBO that should match on the training data. *Hint the difference may not be exactly 0 due to numerical issues.*"
      ]
    },
    {
      "cell_type": "code",
      "metadata": {
        "id": "jWQka9EMYnZK",
        "colab": {
          "base_uri": "https://localhost:8080/"
        },
        "outputId": "434d5884-f4a6-4611-a588-74fc32493c3c"
      },
      "source": [
        "# TODO\n",
        "#The missing part is the KL divergence between approximate posterior and  true posterior which is always greater or equal to zero.\n",
        "#True posterior is intractable, there is no closed form solution for true posterior because of marginalizing over all latent z's.\n",
        "\n",
        "true_posterior_p_logits = mixture_posterior_logits(training_inputs, gt_logits, gt_means, gt_lsigmas)\n",
        "approximate_posterior_q_logits = mixture_posterior_logits(training_inputs, model.logits, model.means, model.lsigmas)\n",
        "\n",
        "print(kl_divergence(true_posterior_p_logits, approximate_posterior_q_logits))\n",
        "\n",
        "\n"
      ],
      "execution_count": null,
      "outputs": [
        {
          "output_type": "stream",
          "name": "stdout",
          "text": [
            "tf.Tensor([4.9709826 7.0955734 7.1186914 ... 0.6475284 4.135871  2.5729487], shape=(5000,), dtype=float32)\n"
          ]
        }
      ]
    },
    {
      "cell_type": "markdown",
      "metadata": {
        "id": "BiWcftEKXNGE"
      },
      "source": [
        "## Weighted KL VAE (30 Points)\n",
        "\n",
        "Show that minimizing the loss\n",
        "$$\\sum_{i=1}^N \\mathbb{E}_{z\\sim q(\\cdot \\mid x_i)}\\left[ \\|x_i - \\mu_{x|z}(z) \\|^2 \\right] + \\beta\\, \\operatorname{KL}\\left[q(z \\mid x_i)\\, ||\\, p(z) \\right]$$\n",
        "is equivalent to maximizing the ELBO for some VAE. I.e. specificy the VAE model and how its loss leads to the loss above."
      ]
    },
    {
      "cell_type": "markdown",
      "metadata": {
        "id": "yeiG3WVQ7YDi"
      },
      "source": [
        " **Answer:**\n",
        "\n",
        "---\n",
        "\n",
        "\n",
        "Here, the loss function of Variational Autoencoders is the sum of two components, with somehow contrasting effects: the reconstruction loss, improving the quality of the resulting images, and the Kullback-Leibler divergence, acting as a regularizer of the latent space. This is known as balancing problem. The generative loss (GL) is the summation of MSE (mean squared error or reconstruction loss) and KL term.\n",
        "\n",
        "Total loss function for VAE is \n",
        " GL = MSE + KL\n",
        "\n",
        " From Maximum Likelihood Estimate we know that maximizing the log likelihood\n",
        "is equilvalent to minimizing the loss. That means if we minimize the above loss, we are actually maximizing the log likelihood indirectly. Further, we can write that,\n",
        "\n",
        "log likelihood = ELBO + KL divergence between approximate posterior and true posterior\n",
        "\n",
        "here , first term elbo is tractable but the second term is intractable because of the fact that true posterior is intractable. But we know that KL divengence is always positive;  it is atleast zero or greater than zero. By removing the equality we can write that,\n",
        "\n",
        "log likelihood >=  ELBO (tight lower bound)\n",
        "\n",
        "ELBO is the tight lower bound of the log likelihood. By maximizing the elbo we are actually indirectly maximizing the log likelihood. Indirectly maximizing the log likelihood means, we are minimizing the loss function which is the above-mentioned loss function.\n"
      ]
    }
  ]
}
